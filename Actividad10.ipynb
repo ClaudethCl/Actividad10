{
 "cells": [
  {
   "cell_type": "code",
   "execution_count": 11,
   "metadata": {},
   "outputs": [],
   "source": [
    "#Librerías\n",
    "import numpy as np\n",
    "import matplotlib.pyplot as plt\n",
    "from math import cos\n",
    "from scipy.integrate import ode"
   ]
  },
  {
   "cell_type": "code",
   "execution_count": 12,
   "metadata": {},
   "outputs": [],
   "source": [
    "#Se define una función que dependa del tiempo, \n",
    "def f(t, z, omega):\n",
    "    \n",
    "    delt, alf, bet, gam, om = omega   \n",
    "    x, y = z                          \n",
    "    f = [y, - delt*y - alf*x - bet*x**3 + gam*cos(om*t)]\n",
    "\n",
    "    return f"
   ]
  },
  {
   "cell_type": "code",
   "execution_count": 13,
   "metadata": {},
   "outputs": [
    {
     "data": {
      "text/plain": [
       "<scipy.integrate._ode.ode at 0x1d45d4ae828>"
      ]
     },
     "execution_count": 13,
     "metadata": {},
     "output_type": "execute_result"
    }
   ],
   "source": [
    "# Crear un \"ode\" para resolver sistemas de ecuaciones diferenciales\n",
    "#Las ecuaciones está definidas por la función, y el método de solución 'dopri5'.\n",
    "solver = ode(f)\n",
    "solver.set_integrator('dopri5')"
   ]
  },
  {
   "cell_type": "code",
   "execution_count": 14,
   "metadata": {},
   "outputs": [],
   "source": [
    "#Creamos los arreglos vacíos para después llenarlos. \n",
    "w1=[]\n",
    "w2=[]\n",
    "w3=[]\n",
    "w4=[]\n",
    "w5=[]\n",
    "gf1=[]\n",
    "gf2=[]\n",
    "gf3=[]\n",
    "gf4=[]\n",
    "gf5=[]\n"
   ]
  },
  {
   "cell_type": "code",
   "execution_count": 15,
   "metadata": {},
   "outputs": [],
   "source": [
    "#Para beta=0.04\n",
    "for i in range(0,200):\n",
    "    \n",
    "    gam = 1.0\n",
    "    alf = 1.0        \n",
    "    delt = 0.1\n",
    "    om = i*0.01\n",
    "    bet = 0.04\n",
    "\n",
    "    val = delt, alf, bet, gam, om                      \n",
    "    solver.set_f_params(val)\n",
    "\n",
    "    # Create the array `t` of time values at which to compute\n",
    "    # the solution, and create an array to hold the solution.\n",
    "    # Put the initial value in the solution array.\n",
    "    t0 = 0.0\n",
    "    z0 = [1.0, 0]\n",
    "    solver.set_initial_value(z0, t0)\n",
    "\n",
    "    # Repeatedly call the `integrate` method to advance the\n",
    "    # solution to time t[k], and save the solution in sol[k].\n",
    "    t1 = 40\n",
    "    n = 400\n",
    "    t = np.linspace(t0, t1, n)\n",
    "    sol = np.empty((n, 2))\n",
    "    sol[0] = z0\n",
    "\n",
    "    k = 1\n",
    "\n",
    "    while solver.successful() and solver.t < t1:\n",
    "        solver.integrate(t[k])\n",
    "        sol[k] = solver.y\n",
    "        k += 1\n",
    "\n",
    "    x = sol[:,0]\n",
    "\n",
    "    w1.append(om)\n",
    "    \n",
    "    gf1.append(max(abs(x)))"
   ]
  },
  {
   "cell_type": "code",
   "execution_count": 16,
   "metadata": {},
   "outputs": [
    {
     "data": {
      "image/png": "[encoded data removed]",
      "text/plain": [
       "<Figure size 576x360 with 1 Axes>"
      ]
     },
     "metadata": {
      "needs_background": "light"
     },
     "output_type": "display_data"
    }
   ],
   "source": [
    "#Gráfica de beta=0.04\n",
    "\n",
    "plt.figure(figsize=(8, 5))\n",
    "\n",
    "plt.plot(w1, gf1, label=\"β=0.04\", color=\"yellow\")\n",
    "plt.xlabel('ω/√α')\n",
    "plt.ylabel(\"z / γ\")\n",
    "plt.title(\"Oscilación de Duffing para β=0.04\")\n",
    "plt.grid(True)\n",
    "plt.legend()\n",
    "plt.show()"
   ]
  },
  {
   "cell_type": "code",
   "execution_count": 17,
   "metadata": {},
   "outputs": [],
   "source": [
    "#Para beta=0.01\n",
    "for i in range(0,200):\n",
    "    \n",
    "    gam = 1.0\n",
    "    alf = 1.0        \n",
    "    delt = 0.1\n",
    "    om = i*0.01\n",
    "    bet = 0.01\n",
    "\n",
    "    val = delt, alf, bet, gam, om                      \n",
    "    solver.set_f_params(val)\n",
    "\n",
    "    # Create the array `t` of time values at which to compute\n",
    "    # the solution, and create an array to hold the solution.\n",
    "    # Put the initial value in the solution array.\n",
    "    t0 = 0.0\n",
    "    z0 = [1.0, 0]\n",
    "    solver.set_initial_value(z0, t0)\n",
    "\n",
    "    # Repeatedly call the `integrate` method to advance the\n",
    "    # solution to time t[k], and save the solution in sol[k].\n",
    "    t1 = 40\n",
    "    n = 400\n",
    "    t = np.linspace(t0, t1, n)\n",
    "    sol = np.empty((n, 2))\n",
    "    sol[0] = z0\n",
    "\n",
    "    k = 1\n",
    "\n",
    "    while solver.successful() and solver.t < t1:\n",
    "        solver.integrate(t[k])\n",
    "        sol[k] = solver.y\n",
    "        k += 1\n",
    "\n",
    "    x = sol[:,0]\n",
    "\n",
    "    w2.append(om)\n",
    "    \n",
    "    gf2.append(max(abs(x)))"
   ]
  },
  {
   "cell_type": "code",
   "execution_count": null,
   "metadata": {},
   "outputs": [],
   "source": [
    "#Para beta=0.00\n",
    "for i in range(0,200):\n",
    "    \n",
    "    gam = 1.0\n",
    "    alf = 1.0        \n",
    "    delt = 0.1\n",
    "    om = i*0.01\n",
    "    bet = 0.00\n",
    "\n",
    "    val = delt, alf, bet, gam, om                      \n",
    "    solver.set_f_params(val)\n",
    "\n",
    "    # Create the array `t` of time values at which to compute\n",
    "    # the solution, and create an array to hold the solution.\n",
    "    # Put the initial value in the solution array.\n",
    "    t0 = 0.0\n",
    "    z0 = [1.0, 0]\n",
    "    solver.set_initial_value(z0, t0)\n",
    "\n",
    "    # Repeatedly call the `integrate` method to advance the\n",
    "    # solution to time t[k], and save the solution in sol[k].\n",
    "    t1 = 40\n",
    "    n = 400\n",
    "    t = np.linspace(t0, t1, n)\n",
    "    sol = np.empty((n, 2))\n",
    "    sol[0] = z0\n",
    "\n",
    "    k = 1\n",
    "\n",
    "    while solver.successful() and solver.t < t1:\n",
    "        solver.integrate(t[k])\n",
    "        sol[k] = solver.y\n",
    "        k += 1\n",
    "\n",
    "    x = sol[:,0]\n",
    "\n",
    "    w3.append(om)\n",
    "    \n",
    "    gf3.append(max(abs(x)))"
   ]
  },
  {
   "cell_type": "code",
   "execution_count": null,
   "metadata": {},
   "outputs": [],
   "source": [
    "#Para beta=-0.003\n",
    "for i in range(0,200):\n",
    "    \n",
    "    gam = 1.0\n",
    "    alf = 1.0        \n",
    "    delt = 0.1\n",
    "    om = i*0.01\n",
    "    bet = -0.003\n",
    "\n",
    "    val = delt, alf, bet, gam, om                      \n",
    "    solver.set_f_params(val)\n",
    "\n",
    "    # Create the array `t` of time values at which to compute\n",
    "    # the solution, and create an array to hold the solution.\n",
    "    # Put the initial value in the solution array.\n",
    "    t0 = 0.0\n",
    "    z0 = [1.0, 0]\n",
    "    solver.set_initial_value(z0, t0)\n",
    "\n",
    "    # Repeatedly call the `integrate` method to advance the\n",
    "    # solution to time t[k], and save the solution in sol[k].\n",
    "    t1 = 40\n",
    "    n = 400\n",
    "    t = np.linspace(t0, t1, n)\n",
    "    sol = np.empty((n, 2))\n",
    "    sol[0] = z0\n",
    "\n",
    "    k = 1\n",
    "\n",
    "    while solver.successful() and solver.t < t1:\n",
    "        solver.integrate(t[k])\n",
    "        sol[k] = solver.y\n",
    "        k += 1\n",
    "\n",
    "    x = sol[:,0]\n",
    "\n",
    "    w4.append(om)\n",
    "    \n",
    "    gf4.append(max(abs(x)))"
   ]
  },
  {
   "cell_type": "code",
   "execution_count": null,
   "metadata": {},
   "outputs": [],
   "source": [
    "#Graficando para distintos valores de beta\n",
    "\n",
    "plt.figure(figsize=(8, 5))\n",
    "\n",
    "plt.plot(w1, gf1, label=\"β=0.04\", color=\"yellow\")\n",
    "plt.plot(w2, gf2, label=\"β=0.01\", color=\"green\")\n",
    "plt.plot(w3, gf3, label=\"β=0.0\", color=\"blue\")\n",
    "plt.plot(w4, gf4, label=\"β=-0.003\", color=\"black\")\n",
    "plt.xlabel('ω/√α')\n",
    "plt.ylabel(\"z / γ\")\n",
    "plt.title(\"Oscilaciones de Duffing\")\n",
    "plt.grid(True)\n",
    "plt.legend()\n",
    "plt.show()"
   ]
  },
  {
   "cell_type": "code",
   "execution_count": null,
   "metadata": {},
   "outputs": [],
   "source": []
  }
 ],
 "metadata": {
  "kernelspec": {
   "display_name": "Python 3",
   "language": "python",
   "name": "python3"
  },
  "language_info": {
   "codemirror_mode": {
    "name": "ipython",
    "version": 3
   },
   "file_extension": ".py",
   "mimetype": "text/x-python",
   "name": "python",
   "nbconvert_exporter": "python",
   "pygments_lexer": "ipython3",
   "version": "3.7.1"
  }
 },
 "nbformat": 4,
 "nbformat_minor": 2
}
